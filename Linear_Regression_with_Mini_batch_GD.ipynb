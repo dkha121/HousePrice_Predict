{
  "nbformat": 4,
  "nbformat_minor": 0,
  "metadata": {
    "colab": {
      "provenance": [],
      "collapsed_sections": []
    },
    "kernelspec": {
      "name": "python3",
      "display_name": "Python 3"
    },
    "language_info": {
      "name": "python"
    }
  },
  "cells": [
    {
      "cell_type": "markdown",
      "source": [
        "# Load Dataset"
      ],
      "metadata": {
        "id": "TKvPUdGrlGNF"
      }
    },
    {
      "cell_type": "code",
      "execution_count": null,
      "metadata": {
        "id": "AiwLerwRa5JF"
      },
      "outputs": [],
      "source": [
        "import numpy as np\n",
        "import matplotlib.pyplot as plt\n",
        "import pandas as pd\n",
        "import tensorflow as tf\n",
        "import matplotlib.gridspec as gridspec\n",
        "import seaborn as sns\n",
        "\n",
        "data = pd.read_csv('kc_house_price.txt')\n"
      ]
    },
    {
      "cell_type": "code",
      "source": [
        "data"
      ],
      "metadata": {
        "colab": {
          "base_uri": "https://localhost:8080/",
          "height": 424
        },
        "id": "L2zy8z7XVCMS",
        "outputId": "3096a2a2-345f-4276-d7e3-2ceaa9b635bb"
      },
      "execution_count": null,
      "outputs": [
        {
          "output_type": "execute_result",
          "data": {
            "text/plain": [
              "               id        date     price  bedrooms  bathrooms  sqft_living  \\\n",
              "0      7129300520  10/13/2014  221900.0         3       1.00         1180   \n",
              "1      6414100192   12/9/2014  538000.0         3       2.25         2570   \n",
              "2      5631500400   2/25/2015  180000.0         2       1.00          770   \n",
              "3      2487200875   12/9/2014  604000.0         4       3.00         1960   \n",
              "4      1954400510   2/18/2015  510000.0         3       2.00         1680   \n",
              "...           ...         ...       ...       ...        ...          ...   \n",
              "21592   263000018   5/21/2014  360000.0         3       2.50         1530   \n",
              "21593  6600060120   2/23/2015  400000.0         4       2.50         2310   \n",
              "21594  1523300141   6/23/2014  402101.0         2       0.75         1020   \n",
              "21595   291310100   1/16/2015  400000.0         3       2.50         1600   \n",
              "21596  1523300157  10/15/2014  325000.0         2       0.75         1020   \n",
              "\n",
              "       sqft_lot  floors  waterfront  view  ...  grade  sqft_above  \\\n",
              "0          5650     1.0         NaN   0.0  ...      7        1180   \n",
              "1          7242     2.0         0.0   0.0  ...      7        2170   \n",
              "2         10000     1.0         0.0   0.0  ...      6         770   \n",
              "3          5000     1.0         0.0   0.0  ...      7        1050   \n",
              "4          8080     1.0         0.0   0.0  ...      8        1680   \n",
              "...         ...     ...         ...   ...  ...    ...         ...   \n",
              "21592      1131     3.0         0.0   0.0  ...      8        1530   \n",
              "21593      5813     2.0         0.0   0.0  ...      8        2310   \n",
              "21594      1350     2.0         0.0   0.0  ...      7        1020   \n",
              "21595      2388     2.0         NaN   0.0  ...      8        1600   \n",
              "21596      1076     2.0         0.0   0.0  ...      7        1020   \n",
              "\n",
              "       sqft_basement yr_built  yr_renovated  zipcode      lat     long  \\\n",
              "0                0.0     1955           0.0    98178  47.5112 -122.257   \n",
              "1              400.0     1951        1991.0    98125  47.7210 -122.319   \n",
              "2                0.0     1933           NaN    98028  47.7379 -122.233   \n",
              "3              910.0     1965           0.0    98136  47.5208 -122.393   \n",
              "4                0.0     1987           0.0    98074  47.6168 -122.045   \n",
              "...              ...      ...           ...      ...      ...      ...   \n",
              "21592            0.0     2009           0.0    98103  47.6993 -122.346   \n",
              "21593            0.0     2014           0.0    98146  47.5107 -122.362   \n",
              "21594            0.0     2009           0.0    98144  47.5944 -122.299   \n",
              "21595            0.0     2004           0.0    98027  47.5345 -122.069   \n",
              "21596            0.0     2008           0.0    98144  47.5941 -122.299   \n",
              "\n",
              "       sqft_living15  sqft_lot15  \n",
              "0               1340        5650  \n",
              "1               1690        7639  \n",
              "2               2720        8062  \n",
              "3               1360        5000  \n",
              "4               1800        7503  \n",
              "...              ...         ...  \n",
              "21592           1530        1509  \n",
              "21593           1830        7200  \n",
              "21594           1020        2007  \n",
              "21595           1410        1287  \n",
              "21596           1020        1357  \n",
              "\n",
              "[21597 rows x 21 columns]"
            ],
            "text/html": [
              "\n",
              "  <div id=\"df-0e21cfd6-3e33-4695-b725-84f6fa30d0cf\">\n",
              "    <div class=\"colab-df-container\">\n",
              "      <div>\n",
              "<style scoped>\n",
              "    .dataframe tbody tr th:only-of-type {\n",
              "        vertical-align: middle;\n",
              "    }\n",
              "\n",
              "    .dataframe tbody tr th {\n",
              "        vertical-align: top;\n",
              "    }\n",
              "\n",
              "    .dataframe thead th {\n",
              "        text-align: right;\n",
              "    }\n",
              "</style>\n",
              "<table border=\"1\" class=\"dataframe\">\n",
              "  <thead>\n",
              "    <tr style=\"text-align: right;\">\n",
              "      <th></th>\n",
              "      <th>id</th>\n",
              "      <th>date</th>\n",
              "      <th>price</th>\n",
              "      <th>bedrooms</th>\n",
              "      <th>bathrooms</th>\n",
              "      <th>sqft_living</th>\n",
              "      <th>sqft_lot</th>\n",
              "      <th>floors</th>\n",
              "      <th>waterfront</th>\n",
              "      <th>view</th>\n",
              "      <th>...</th>\n",
              "      <th>grade</th>\n",
              "      <th>sqft_above</th>\n",
              "      <th>sqft_basement</th>\n",
              "      <th>yr_built</th>\n",
              "      <th>yr_renovated</th>\n",
              "      <th>zipcode</th>\n",
              "      <th>lat</th>\n",
              "      <th>long</th>\n",
              "      <th>sqft_living15</th>\n",
              "      <th>sqft_lot15</th>\n",
              "    </tr>\n",
              "  </thead>\n",
              "  <tbody>\n",
              "    <tr>\n",
              "      <th>0</th>\n",
              "      <td>7129300520</td>\n",
              "      <td>10/13/2014</td>\n",
              "      <td>221900.0</td>\n",
              "      <td>3</td>\n",
              "      <td>1.00</td>\n",
              "      <td>1180</td>\n",
              "      <td>5650</td>\n",
              "      <td>1.0</td>\n",
              "      <td>NaN</td>\n",
              "      <td>0.0</td>\n",
              "      <td>...</td>\n",
              "      <td>7</td>\n",
              "      <td>1180</td>\n",
              "      <td>0.0</td>\n",
              "      <td>1955</td>\n",
              "      <td>0.0</td>\n",
              "      <td>98178</td>\n",
              "      <td>47.5112</td>\n",
              "      <td>-122.257</td>\n",
              "      <td>1340</td>\n",
              "      <td>5650</td>\n",
              "    </tr>\n",
              "    <tr>\n",
              "      <th>1</th>\n",
              "      <td>6414100192</td>\n",
              "      <td>12/9/2014</td>\n",
              "      <td>538000.0</td>\n",
              "      <td>3</td>\n",
              "      <td>2.25</td>\n",
              "      <td>2570</td>\n",
              "      <td>7242</td>\n",
              "      <td>2.0</td>\n",
              "      <td>0.0</td>\n",
              "      <td>0.0</td>\n",
              "      <td>...</td>\n",
              "      <td>7</td>\n",
              "      <td>2170</td>\n",
              "      <td>400.0</td>\n",
              "      <td>1951</td>\n",
              "      <td>1991.0</td>\n",
              "      <td>98125</td>\n",
              "      <td>47.7210</td>\n",
              "      <td>-122.319</td>\n",
              "      <td>1690</td>\n",
              "      <td>7639</td>\n",
              "    </tr>\n",
              "    <tr>\n",
              "      <th>2</th>\n",
              "      <td>5631500400</td>\n",
              "      <td>2/25/2015</td>\n",
              "      <td>180000.0</td>\n",
              "      <td>2</td>\n",
              "      <td>1.00</td>\n",
              "      <td>770</td>\n",
              "      <td>10000</td>\n",
              "      <td>1.0</td>\n",
              "      <td>0.0</td>\n",
              "      <td>0.0</td>\n",
              "      <td>...</td>\n",
              "      <td>6</td>\n",
              "      <td>770</td>\n",
              "      <td>0.0</td>\n",
              "      <td>1933</td>\n",
              "      <td>NaN</td>\n",
              "      <td>98028</td>\n",
              "      <td>47.7379</td>\n",
              "      <td>-122.233</td>\n",
              "      <td>2720</td>\n",
              "      <td>8062</td>\n",
              "    </tr>\n",
              "    <tr>\n",
              "      <th>3</th>\n",
              "      <td>2487200875</td>\n",
              "      <td>12/9/2014</td>\n",
              "      <td>604000.0</td>\n",
              "      <td>4</td>\n",
              "      <td>3.00</td>\n",
              "      <td>1960</td>\n",
              "      <td>5000</td>\n",
              "      <td>1.0</td>\n",
              "      <td>0.0</td>\n",
              "      <td>0.0</td>\n",
              "      <td>...</td>\n",
              "      <td>7</td>\n",
              "      <td>1050</td>\n",
              "      <td>910.0</td>\n",
              "      <td>1965</td>\n",
              "      <td>0.0</td>\n",
              "      <td>98136</td>\n",
              "      <td>47.5208</td>\n",
              "      <td>-122.393</td>\n",
              "      <td>1360</td>\n",
              "      <td>5000</td>\n",
              "    </tr>\n",
              "    <tr>\n",
              "      <th>4</th>\n",
              "      <td>1954400510</td>\n",
              "      <td>2/18/2015</td>\n",
              "      <td>510000.0</td>\n",
              "      <td>3</td>\n",
              "      <td>2.00</td>\n",
              "      <td>1680</td>\n",
              "      <td>8080</td>\n",
              "      <td>1.0</td>\n",
              "      <td>0.0</td>\n",
              "      <td>0.0</td>\n",
              "      <td>...</td>\n",
              "      <td>8</td>\n",
              "      <td>1680</td>\n",
              "      <td>0.0</td>\n",
              "      <td>1987</td>\n",
              "      <td>0.0</td>\n",
              "      <td>98074</td>\n",
              "      <td>47.6168</td>\n",
              "      <td>-122.045</td>\n",
              "      <td>1800</td>\n",
              "      <td>7503</td>\n",
              "    </tr>\n",
              "    <tr>\n",
              "      <th>...</th>\n",
              "      <td>...</td>\n",
              "      <td>...</td>\n",
              "      <td>...</td>\n",
              "      <td>...</td>\n",
              "      <td>...</td>\n",
              "      <td>...</td>\n",
              "      <td>...</td>\n",
              "      <td>...</td>\n",
              "      <td>...</td>\n",
              "      <td>...</td>\n",
              "      <td>...</td>\n",
              "      <td>...</td>\n",
              "      <td>...</td>\n",
              "      <td>...</td>\n",
              "      <td>...</td>\n",
              "      <td>...</td>\n",
              "      <td>...</td>\n",
              "      <td>...</td>\n",
              "      <td>...</td>\n",
              "      <td>...</td>\n",
              "      <td>...</td>\n",
              "    </tr>\n",
              "    <tr>\n",
              "      <th>21592</th>\n",
              "      <td>263000018</td>\n",
              "      <td>5/21/2014</td>\n",
              "      <td>360000.0</td>\n",
              "      <td>3</td>\n",
              "      <td>2.50</td>\n",
              "      <td>1530</td>\n",
              "      <td>1131</td>\n",
              "      <td>3.0</td>\n",
              "      <td>0.0</td>\n",
              "      <td>0.0</td>\n",
              "      <td>...</td>\n",
              "      <td>8</td>\n",
              "      <td>1530</td>\n",
              "      <td>0.0</td>\n",
              "      <td>2009</td>\n",
              "      <td>0.0</td>\n",
              "      <td>98103</td>\n",
              "      <td>47.6993</td>\n",
              "      <td>-122.346</td>\n",
              "      <td>1530</td>\n",
              "      <td>1509</td>\n",
              "    </tr>\n",
              "    <tr>\n",
              "      <th>21593</th>\n",
              "      <td>6600060120</td>\n",
              "      <td>2/23/2015</td>\n",
              "      <td>400000.0</td>\n",
              "      <td>4</td>\n",
              "      <td>2.50</td>\n",
              "      <td>2310</td>\n",
              "      <td>5813</td>\n",
              "      <td>2.0</td>\n",
              "      <td>0.0</td>\n",
              "      <td>0.0</td>\n",
              "      <td>...</td>\n",
              "      <td>8</td>\n",
              "      <td>2310</td>\n",
              "      <td>0.0</td>\n",
              "      <td>2014</td>\n",
              "      <td>0.0</td>\n",
              "      <td>98146</td>\n",
              "      <td>47.5107</td>\n",
              "      <td>-122.362</td>\n",
              "      <td>1830</td>\n",
              "      <td>7200</td>\n",
              "    </tr>\n",
              "    <tr>\n",
              "      <th>21594</th>\n",
              "      <td>1523300141</td>\n",
              "      <td>6/23/2014</td>\n",
              "      <td>402101.0</td>\n",
              "      <td>2</td>\n",
              "      <td>0.75</td>\n",
              "      <td>1020</td>\n",
              "      <td>1350</td>\n",
              "      <td>2.0</td>\n",
              "      <td>0.0</td>\n",
              "      <td>0.0</td>\n",
              "      <td>...</td>\n",
              "      <td>7</td>\n",
              "      <td>1020</td>\n",
              "      <td>0.0</td>\n",
              "      <td>2009</td>\n",
              "      <td>0.0</td>\n",
              "      <td>98144</td>\n",
              "      <td>47.5944</td>\n",
              "      <td>-122.299</td>\n",
              "      <td>1020</td>\n",
              "      <td>2007</td>\n",
              "    </tr>\n",
              "    <tr>\n",
              "      <th>21595</th>\n",
              "      <td>291310100</td>\n",
              "      <td>1/16/2015</td>\n",
              "      <td>400000.0</td>\n",
              "      <td>3</td>\n",
              "      <td>2.50</td>\n",
              "      <td>1600</td>\n",
              "      <td>2388</td>\n",
              "      <td>2.0</td>\n",
              "      <td>NaN</td>\n",
              "      <td>0.0</td>\n",
              "      <td>...</td>\n",
              "      <td>8</td>\n",
              "      <td>1600</td>\n",
              "      <td>0.0</td>\n",
              "      <td>2004</td>\n",
              "      <td>0.0</td>\n",
              "      <td>98027</td>\n",
              "      <td>47.5345</td>\n",
              "      <td>-122.069</td>\n",
              "      <td>1410</td>\n",
              "      <td>1287</td>\n",
              "    </tr>\n",
              "    <tr>\n",
              "      <th>21596</th>\n",
              "      <td>1523300157</td>\n",
              "      <td>10/15/2014</td>\n",
              "      <td>325000.0</td>\n",
              "      <td>2</td>\n",
              "      <td>0.75</td>\n",
              "      <td>1020</td>\n",
              "      <td>1076</td>\n",
              "      <td>2.0</td>\n",
              "      <td>0.0</td>\n",
              "      <td>0.0</td>\n",
              "      <td>...</td>\n",
              "      <td>7</td>\n",
              "      <td>1020</td>\n",
              "      <td>0.0</td>\n",
              "      <td>2008</td>\n",
              "      <td>0.0</td>\n",
              "      <td>98144</td>\n",
              "      <td>47.5941</td>\n",
              "      <td>-122.299</td>\n",
              "      <td>1020</td>\n",
              "      <td>1357</td>\n",
              "    </tr>\n",
              "  </tbody>\n",
              "</table>\n",
              "<p>21597 rows × 21 columns</p>\n",
              "</div>\n",
              "      <button class=\"colab-df-convert\" onclick=\"convertToInteractive('df-0e21cfd6-3e33-4695-b725-84f6fa30d0cf')\"\n",
              "              title=\"Convert this dataframe to an interactive table.\"\n",
              "              style=\"display:none;\">\n",
              "        \n",
              "  <svg xmlns=\"http://www.w3.org/2000/svg\" height=\"24px\"viewBox=\"0 0 24 24\"\n",
              "       width=\"24px\">\n",
              "    <path d=\"M0 0h24v24H0V0z\" fill=\"none\"/>\n",
              "    <path d=\"M18.56 5.44l.94 2.06.94-2.06 2.06-.94-2.06-.94-.94-2.06-.94 2.06-2.06.94zm-11 1L8.5 8.5l.94-2.06 2.06-.94-2.06-.94L8.5 2.5l-.94 2.06-2.06.94zm10 10l.94 2.06.94-2.06 2.06-.94-2.06-.94-.94-2.06-.94 2.06-2.06.94z\"/><path d=\"M17.41 7.96l-1.37-1.37c-.4-.4-.92-.59-1.43-.59-.52 0-1.04.2-1.43.59L10.3 9.45l-7.72 7.72c-.78.78-.78 2.05 0 2.83L4 21.41c.39.39.9.59 1.41.59.51 0 1.02-.2 1.41-.59l7.78-7.78 2.81-2.81c.8-.78.8-2.07 0-2.86zM5.41 20L4 18.59l7.72-7.72 1.47 1.35L5.41 20z\"/>\n",
              "  </svg>\n",
              "      </button>\n",
              "      \n",
              "  <style>\n",
              "    .colab-df-container {\n",
              "      display:flex;\n",
              "      flex-wrap:wrap;\n",
              "      gap: 12px;\n",
              "    }\n",
              "\n",
              "    .colab-df-convert {\n",
              "      background-color: #E8F0FE;\n",
              "      border: none;\n",
              "      border-radius: 50%;\n",
              "      cursor: pointer;\n",
              "      display: none;\n",
              "      fill: #1967D2;\n",
              "      height: 32px;\n",
              "      padding: 0 0 0 0;\n",
              "      width: 32px;\n",
              "    }\n",
              "\n",
              "    .colab-df-convert:hover {\n",
              "      background-color: #E2EBFA;\n",
              "      box-shadow: 0px 1px 2px rgba(60, 64, 67, 0.3), 0px 1px 3px 1px rgba(60, 64, 67, 0.15);\n",
              "      fill: #174EA6;\n",
              "    }\n",
              "\n",
              "    [theme=dark] .colab-df-convert {\n",
              "      background-color: #3B4455;\n",
              "      fill: #D2E3FC;\n",
              "    }\n",
              "\n",
              "    [theme=dark] .colab-df-convert:hover {\n",
              "      background-color: #434B5C;\n",
              "      box-shadow: 0px 1px 3px 1px rgba(0, 0, 0, 0.15);\n",
              "      filter: drop-shadow(0px 1px 2px rgba(0, 0, 0, 0.3));\n",
              "      fill: #FFFFFF;\n",
              "    }\n",
              "  </style>\n",
              "\n",
              "      <script>\n",
              "        const buttonEl =\n",
              "          document.querySelector('#df-0e21cfd6-3e33-4695-b725-84f6fa30d0cf button.colab-df-convert');\n",
              "        buttonEl.style.display =\n",
              "          google.colab.kernel.accessAllowed ? 'block' : 'none';\n",
              "\n",
              "        async function convertToInteractive(key) {\n",
              "          const element = document.querySelector('#df-0e21cfd6-3e33-4695-b725-84f6fa30d0cf');\n",
              "          const dataTable =\n",
              "            await google.colab.kernel.invokeFunction('convertToInteractive',\n",
              "                                                     [key], {});\n",
              "          if (!dataTable) return;\n",
              "\n",
              "          const docLinkHtml = 'Like what you see? Visit the ' +\n",
              "            '<a target=\"_blank\" href=https://colab.research.google.com/notebooks/data_table.ipynb>data table notebook</a>'\n",
              "            + ' to learn more about interactive tables.';\n",
              "          element.innerHTML = '';\n",
              "          dataTable['output_type'] = 'display_data';\n",
              "          await google.colab.output.renderOutput(dataTable, element);\n",
              "          const docLink = document.createElement('div');\n",
              "          docLink.innerHTML = docLinkHtml;\n",
              "          element.appendChild(docLink);\n",
              "        }\n",
              "      </script>\n",
              "    </div>\n",
              "  </div>\n",
              "  "
            ]
          },
          "metadata": {},
          "execution_count": 28
        }
      ]
    },
    {
      "cell_type": "code",
      "source": [
        "data = data.drop(columns=['id', 'date','bathrooms','sqft_lot','floors','waterfront','view','condition','grade','sqft_above','sqft_basement','yr_built','yr_renovated','zipcode','lat','long','sqft_living15','sqft_lot15'])\n"
      ],
      "metadata": {
        "id": "P-rAGzYegn1A"
      },
      "execution_count": null,
      "outputs": []
    },
    {
      "cell_type": "code",
      "source": [
        "data"
      ],
      "metadata": {
        "id": "UIOrp8dziyiA",
        "colab": {
          "base_uri": "https://localhost:8080/",
          "height": 424
        },
        "outputId": "c99c9058-7deb-42ef-c159-47107d192cff"
      },
      "execution_count": null,
      "outputs": [
        {
          "output_type": "execute_result",
          "data": {
            "text/plain": [
              "          price  bedrooms  sqft_living\n",
              "0      221900.0         3         1180\n",
              "1      538000.0         3         2570\n",
              "2      180000.0         2          770\n",
              "3      604000.0         4         1960\n",
              "4      510000.0         3         1680\n",
              "...         ...       ...          ...\n",
              "21592  360000.0         3         1530\n",
              "21593  400000.0         4         2310\n",
              "21594  402101.0         2         1020\n",
              "21595  400000.0         3         1600\n",
              "21596  325000.0         2         1020\n",
              "\n",
              "[21597 rows x 3 columns]"
            ],
            "text/html": [
              "\n",
              "  <div id=\"df-530bd088-00cc-4c1a-8574-8f4f5b65ec9f\">\n",
              "    <div class=\"colab-df-container\">\n",
              "      <div>\n",
              "<style scoped>\n",
              "    .dataframe tbody tr th:only-of-type {\n",
              "        vertical-align: middle;\n",
              "    }\n",
              "\n",
              "    .dataframe tbody tr th {\n",
              "        vertical-align: top;\n",
              "    }\n",
              "\n",
              "    .dataframe thead th {\n",
              "        text-align: right;\n",
              "    }\n",
              "</style>\n",
              "<table border=\"1\" class=\"dataframe\">\n",
              "  <thead>\n",
              "    <tr style=\"text-align: right;\">\n",
              "      <th></th>\n",
              "      <th>price</th>\n",
              "      <th>bedrooms</th>\n",
              "      <th>sqft_living</th>\n",
              "    </tr>\n",
              "  </thead>\n",
              "  <tbody>\n",
              "    <tr>\n",
              "      <th>0</th>\n",
              "      <td>221900.0</td>\n",
              "      <td>3</td>\n",
              "      <td>1180</td>\n",
              "    </tr>\n",
              "    <tr>\n",
              "      <th>1</th>\n",
              "      <td>538000.0</td>\n",
              "      <td>3</td>\n",
              "      <td>2570</td>\n",
              "    </tr>\n",
              "    <tr>\n",
              "      <th>2</th>\n",
              "      <td>180000.0</td>\n",
              "      <td>2</td>\n",
              "      <td>770</td>\n",
              "    </tr>\n",
              "    <tr>\n",
              "      <th>3</th>\n",
              "      <td>604000.0</td>\n",
              "      <td>4</td>\n",
              "      <td>1960</td>\n",
              "    </tr>\n",
              "    <tr>\n",
              "      <th>4</th>\n",
              "      <td>510000.0</td>\n",
              "      <td>3</td>\n",
              "      <td>1680</td>\n",
              "    </tr>\n",
              "    <tr>\n",
              "      <th>...</th>\n",
              "      <td>...</td>\n",
              "      <td>...</td>\n",
              "      <td>...</td>\n",
              "    </tr>\n",
              "    <tr>\n",
              "      <th>21592</th>\n",
              "      <td>360000.0</td>\n",
              "      <td>3</td>\n",
              "      <td>1530</td>\n",
              "    </tr>\n",
              "    <tr>\n",
              "      <th>21593</th>\n",
              "      <td>400000.0</td>\n",
              "      <td>4</td>\n",
              "      <td>2310</td>\n",
              "    </tr>\n",
              "    <tr>\n",
              "      <th>21594</th>\n",
              "      <td>402101.0</td>\n",
              "      <td>2</td>\n",
              "      <td>1020</td>\n",
              "    </tr>\n",
              "    <tr>\n",
              "      <th>21595</th>\n",
              "      <td>400000.0</td>\n",
              "      <td>3</td>\n",
              "      <td>1600</td>\n",
              "    </tr>\n",
              "    <tr>\n",
              "      <th>21596</th>\n",
              "      <td>325000.0</td>\n",
              "      <td>2</td>\n",
              "      <td>1020</td>\n",
              "    </tr>\n",
              "  </tbody>\n",
              "</table>\n",
              "<p>21597 rows × 3 columns</p>\n",
              "</div>\n",
              "      <button class=\"colab-df-convert\" onclick=\"convertToInteractive('df-530bd088-00cc-4c1a-8574-8f4f5b65ec9f')\"\n",
              "              title=\"Convert this dataframe to an interactive table.\"\n",
              "              style=\"display:none;\">\n",
              "        \n",
              "  <svg xmlns=\"http://www.w3.org/2000/svg\" height=\"24px\"viewBox=\"0 0 24 24\"\n",
              "       width=\"24px\">\n",
              "    <path d=\"M0 0h24v24H0V0z\" fill=\"none\"/>\n",
              "    <path d=\"M18.56 5.44l.94 2.06.94-2.06 2.06-.94-2.06-.94-.94-2.06-.94 2.06-2.06.94zm-11 1L8.5 8.5l.94-2.06 2.06-.94-2.06-.94L8.5 2.5l-.94 2.06-2.06.94zm10 10l.94 2.06.94-2.06 2.06-.94-2.06-.94-.94-2.06-.94 2.06-2.06.94z\"/><path d=\"M17.41 7.96l-1.37-1.37c-.4-.4-.92-.59-1.43-.59-.52 0-1.04.2-1.43.59L10.3 9.45l-7.72 7.72c-.78.78-.78 2.05 0 2.83L4 21.41c.39.39.9.59 1.41.59.51 0 1.02-.2 1.41-.59l7.78-7.78 2.81-2.81c.8-.78.8-2.07 0-2.86zM5.41 20L4 18.59l7.72-7.72 1.47 1.35L5.41 20z\"/>\n",
              "  </svg>\n",
              "      </button>\n",
              "      \n",
              "  <style>\n",
              "    .colab-df-container {\n",
              "      display:flex;\n",
              "      flex-wrap:wrap;\n",
              "      gap: 12px;\n",
              "    }\n",
              "\n",
              "    .colab-df-convert {\n",
              "      background-color: #E8F0FE;\n",
              "      border: none;\n",
              "      border-radius: 50%;\n",
              "      cursor: pointer;\n",
              "      display: none;\n",
              "      fill: #1967D2;\n",
              "      height: 32px;\n",
              "      padding: 0 0 0 0;\n",
              "      width: 32px;\n",
              "    }\n",
              "\n",
              "    .colab-df-convert:hover {\n",
              "      background-color: #E2EBFA;\n",
              "      box-shadow: 0px 1px 2px rgba(60, 64, 67, 0.3), 0px 1px 3px 1px rgba(60, 64, 67, 0.15);\n",
              "      fill: #174EA6;\n",
              "    }\n",
              "\n",
              "    [theme=dark] .colab-df-convert {\n",
              "      background-color: #3B4455;\n",
              "      fill: #D2E3FC;\n",
              "    }\n",
              "\n",
              "    [theme=dark] .colab-df-convert:hover {\n",
              "      background-color: #434B5C;\n",
              "      box-shadow: 0px 1px 3px 1px rgba(0, 0, 0, 0.15);\n",
              "      filter: drop-shadow(0px 1px 2px rgba(0, 0, 0, 0.3));\n",
              "      fill: #FFFFFF;\n",
              "    }\n",
              "  </style>\n",
              "\n",
              "      <script>\n",
              "        const buttonEl =\n",
              "          document.querySelector('#df-530bd088-00cc-4c1a-8574-8f4f5b65ec9f button.colab-df-convert');\n",
              "        buttonEl.style.display =\n",
              "          google.colab.kernel.accessAllowed ? 'block' : 'none';\n",
              "\n",
              "        async function convertToInteractive(key) {\n",
              "          const element = document.querySelector('#df-530bd088-00cc-4c1a-8574-8f4f5b65ec9f');\n",
              "          const dataTable =\n",
              "            await google.colab.kernel.invokeFunction('convertToInteractive',\n",
              "                                                     [key], {});\n",
              "          if (!dataTable) return;\n",
              "\n",
              "          const docLinkHtml = 'Like what you see? Visit the ' +\n",
              "            '<a target=\"_blank\" href=https://colab.research.google.com/notebooks/data_table.ipynb>data table notebook</a>'\n",
              "            + ' to learn more about interactive tables.';\n",
              "          element.innerHTML = '';\n",
              "          dataTable['output_type'] = 'display_data';\n",
              "          await google.colab.output.renderOutput(dataTable, element);\n",
              "          const docLink = document.createElement('div');\n",
              "          docLink.innerHTML = docLinkHtml;\n",
              "          element.appendChild(docLink);\n",
              "        }\n",
              "      </script>\n",
              "    </div>\n",
              "  </div>\n",
              "  "
            ]
          },
          "metadata": {},
          "execution_count": 30
        }
      ]
    },
    {
      "cell_type": "markdown",
      "source": [
        "# Summarize and Visualize the dataset\n"
      ],
      "metadata": {
        "id": "99O2iWF4lpmX"
      }
    },
    {
      "cell_type": "code",
      "source": [
        "data.info()"
      ],
      "metadata": {
        "id": "mcT3gxk5i8w8",
        "colab": {
          "base_uri": "https://localhost:8080/"
        },
        "outputId": "2bd0e9b9-828e-439b-9d67-a47e9fd9584e"
      },
      "execution_count": null,
      "outputs": [
        {
          "output_type": "stream",
          "name": "stdout",
          "text": [
            "<class 'pandas.core.frame.DataFrame'>\n",
            "RangeIndex: 21597 entries, 0 to 21596\n",
            "Data columns (total 3 columns):\n",
            " #   Column       Non-Null Count  Dtype  \n",
            "---  ------       --------------  -----  \n",
            " 0   price        21597 non-null  float64\n",
            " 1   bedrooms     21597 non-null  int64  \n",
            " 2   sqft_living  21597 non-null  int64  \n",
            "dtypes: float64(1), int64(2)\n",
            "memory usage: 506.3 KB\n"
          ]
        }
      ]
    },
    {
      "cell_type": "code",
      "source": [
        "data.isna().sum()"
      ],
      "metadata": {
        "id": "NQ9Hykt0gsNK",
        "colab": {
          "base_uri": "https://localhost:8080/"
        },
        "outputId": "95edac80-d5a2-457a-d90b-65230b02a52b"
      },
      "execution_count": null,
      "outputs": [
        {
          "output_type": "execute_result",
          "data": {
            "text/plain": [
              "price          0\n",
              "bedrooms       0\n",
              "sqft_living    0\n",
              "dtype: int64"
            ]
          },
          "metadata": {},
          "execution_count": 32
        }
      ]
    },
    {
      "cell_type": "code",
      "source": [
        "data.describe()"
      ],
      "metadata": {
        "id": "1hHNPrFNiryh",
        "colab": {
          "base_uri": "https://localhost:8080/",
          "height": 300
        },
        "outputId": "d5a253a1-9dec-47b9-f9a1-051a4caa349c"
      },
      "execution_count": null,
      "outputs": [
        {
          "output_type": "execute_result",
          "data": {
            "text/plain": [
              "              price      bedrooms   sqft_living\n",
              "count  2.159700e+04  21597.000000  21597.000000\n",
              "mean   5.402966e+05      3.373200   2080.321850\n",
              "std    3.673681e+05      0.926299    918.106125\n",
              "min    7.800000e+04      1.000000    370.000000\n",
              "25%    3.220000e+05      3.000000   1430.000000\n",
              "50%    4.500000e+05      3.000000   1910.000000\n",
              "75%    6.450000e+05      4.000000   2550.000000\n",
              "max    7.700000e+06     33.000000  13540.000000"
            ],
            "text/html": [
              "\n",
              "  <div id=\"df-9cbcee4b-e274-4447-91d1-bacdf72813a3\">\n",
              "    <div class=\"colab-df-container\">\n",
              "      <div>\n",
              "<style scoped>\n",
              "    .dataframe tbody tr th:only-of-type {\n",
              "        vertical-align: middle;\n",
              "    }\n",
              "\n",
              "    .dataframe tbody tr th {\n",
              "        vertical-align: top;\n",
              "    }\n",
              "\n",
              "    .dataframe thead th {\n",
              "        text-align: right;\n",
              "    }\n",
              "</style>\n",
              "<table border=\"1\" class=\"dataframe\">\n",
              "  <thead>\n",
              "    <tr style=\"text-align: right;\">\n",
              "      <th></th>\n",
              "      <th>price</th>\n",
              "      <th>bedrooms</th>\n",
              "      <th>sqft_living</th>\n",
              "    </tr>\n",
              "  </thead>\n",
              "  <tbody>\n",
              "    <tr>\n",
              "      <th>count</th>\n",
              "      <td>2.159700e+04</td>\n",
              "      <td>21597.000000</td>\n",
              "      <td>21597.000000</td>\n",
              "    </tr>\n",
              "    <tr>\n",
              "      <th>mean</th>\n",
              "      <td>5.402966e+05</td>\n",
              "      <td>3.373200</td>\n",
              "      <td>2080.321850</td>\n",
              "    </tr>\n",
              "    <tr>\n",
              "      <th>std</th>\n",
              "      <td>3.673681e+05</td>\n",
              "      <td>0.926299</td>\n",
              "      <td>918.106125</td>\n",
              "    </tr>\n",
              "    <tr>\n",
              "      <th>min</th>\n",
              "      <td>7.800000e+04</td>\n",
              "      <td>1.000000</td>\n",
              "      <td>370.000000</td>\n",
              "    </tr>\n",
              "    <tr>\n",
              "      <th>25%</th>\n",
              "      <td>3.220000e+05</td>\n",
              "      <td>3.000000</td>\n",
              "      <td>1430.000000</td>\n",
              "    </tr>\n",
              "    <tr>\n",
              "      <th>50%</th>\n",
              "      <td>4.500000e+05</td>\n",
              "      <td>3.000000</td>\n",
              "      <td>1910.000000</td>\n",
              "    </tr>\n",
              "    <tr>\n",
              "      <th>75%</th>\n",
              "      <td>6.450000e+05</td>\n",
              "      <td>4.000000</td>\n",
              "      <td>2550.000000</td>\n",
              "    </tr>\n",
              "    <tr>\n",
              "      <th>max</th>\n",
              "      <td>7.700000e+06</td>\n",
              "      <td>33.000000</td>\n",
              "      <td>13540.000000</td>\n",
              "    </tr>\n",
              "  </tbody>\n",
              "</table>\n",
              "</div>\n",
              "      <button class=\"colab-df-convert\" onclick=\"convertToInteractive('df-9cbcee4b-e274-4447-91d1-bacdf72813a3')\"\n",
              "              title=\"Convert this dataframe to an interactive table.\"\n",
              "              style=\"display:none;\">\n",
              "        \n",
              "  <svg xmlns=\"http://www.w3.org/2000/svg\" height=\"24px\"viewBox=\"0 0 24 24\"\n",
              "       width=\"24px\">\n",
              "    <path d=\"M0 0h24v24H0V0z\" fill=\"none\"/>\n",
              "    <path d=\"M18.56 5.44l.94 2.06.94-2.06 2.06-.94-2.06-.94-.94-2.06-.94 2.06-2.06.94zm-11 1L8.5 8.5l.94-2.06 2.06-.94-2.06-.94L8.5 2.5l-.94 2.06-2.06.94zm10 10l.94 2.06.94-2.06 2.06-.94-2.06-.94-.94-2.06-.94 2.06-2.06.94z\"/><path d=\"M17.41 7.96l-1.37-1.37c-.4-.4-.92-.59-1.43-.59-.52 0-1.04.2-1.43.59L10.3 9.45l-7.72 7.72c-.78.78-.78 2.05 0 2.83L4 21.41c.39.39.9.59 1.41.59.51 0 1.02-.2 1.41-.59l7.78-7.78 2.81-2.81c.8-.78.8-2.07 0-2.86zM5.41 20L4 18.59l7.72-7.72 1.47 1.35L5.41 20z\"/>\n",
              "  </svg>\n",
              "      </button>\n",
              "      \n",
              "  <style>\n",
              "    .colab-df-container {\n",
              "      display:flex;\n",
              "      flex-wrap:wrap;\n",
              "      gap: 12px;\n",
              "    }\n",
              "\n",
              "    .colab-df-convert {\n",
              "      background-color: #E8F0FE;\n",
              "      border: none;\n",
              "      border-radius: 50%;\n",
              "      cursor: pointer;\n",
              "      display: none;\n",
              "      fill: #1967D2;\n",
              "      height: 32px;\n",
              "      padding: 0 0 0 0;\n",
              "      width: 32px;\n",
              "    }\n",
              "\n",
              "    .colab-df-convert:hover {\n",
              "      background-color: #E2EBFA;\n",
              "      box-shadow: 0px 1px 2px rgba(60, 64, 67, 0.3), 0px 1px 3px 1px rgba(60, 64, 67, 0.15);\n",
              "      fill: #174EA6;\n",
              "    }\n",
              "\n",
              "    [theme=dark] .colab-df-convert {\n",
              "      background-color: #3B4455;\n",
              "      fill: #D2E3FC;\n",
              "    }\n",
              "\n",
              "    [theme=dark] .colab-df-convert:hover {\n",
              "      background-color: #434B5C;\n",
              "      box-shadow: 0px 1px 3px 1px rgba(0, 0, 0, 0.15);\n",
              "      filter: drop-shadow(0px 1px 2px rgba(0, 0, 0, 0.3));\n",
              "      fill: #FFFFFF;\n",
              "    }\n",
              "  </style>\n",
              "\n",
              "      <script>\n",
              "        const buttonEl =\n",
              "          document.querySelector('#df-9cbcee4b-e274-4447-91d1-bacdf72813a3 button.colab-df-convert');\n",
              "        buttonEl.style.display =\n",
              "          google.colab.kernel.accessAllowed ? 'block' : 'none';\n",
              "\n",
              "        async function convertToInteractive(key) {\n",
              "          const element = document.querySelector('#df-9cbcee4b-e274-4447-91d1-bacdf72813a3');\n",
              "          const dataTable =\n",
              "            await google.colab.kernel.invokeFunction('convertToInteractive',\n",
              "                                                     [key], {});\n",
              "          if (!dataTable) return;\n",
              "\n",
              "          const docLinkHtml = 'Like what you see? Visit the ' +\n",
              "            '<a target=\"_blank\" href=https://colab.research.google.com/notebooks/data_table.ipynb>data table notebook</a>'\n",
              "            + ' to learn more about interactive tables.';\n",
              "          element.innerHTML = '';\n",
              "          dataTable['output_type'] = 'display_data';\n",
              "          await google.colab.output.renderOutput(dataTable, element);\n",
              "          const docLink = document.createElement('div');\n",
              "          docLink.innerHTML = docLinkHtml;\n",
              "          element.appendChild(docLink);\n",
              "        }\n",
              "      </script>\n",
              "    </div>\n",
              "  </div>\n",
              "  "
            ]
          },
          "metadata": {},
          "execution_count": 33
        }
      ]
    },
    {
      "cell_type": "code",
      "source": [
        "sns.displot(data, x=\"price\")\n",
        "sns.displot(data, x=\"sqft_living\")\n",
        "sns.displot(data, x=\"bedrooms\")"
      ],
      "metadata": {
        "id": "GkpMqt7j2G8D",
        "colab": {
          "base_uri": "https://localhost:8080/",
          "height": 1000
        },
        "outputId": "0afb838d-8d32-4c7f-81ff-91ac018a84d9"
      },
      "execution_count": null,
      "outputs": [
        {
          "output_type": "execute_result",
          "data": {
            "text/plain": [
              "<seaborn.axisgrid.FacetGrid at 0x7f21f13ec690>"
            ]
          },
          "metadata": {},
          "execution_count": 34
        },
        {
          "output_type": "display_data",
          "data": {
            "text/plain": [
              "<Figure size 360x360 with 1 Axes>"
            ],
            "image/png": "[encoded data removed]"
          },
          "metadata": {
            "needs_background": "light"
          }
        },
        {
          "output_type": "display_data",
          "data": {
            "text/plain": [
              "<Figure size 360x360 with 1 Axes>"
            ],
            "image/png": "[encoded data removed]"
          },
          "metadata": {
            "needs_background": "light"
          }
        },
        {
          "output_type": "display_data",
          "data": {
            "text/plain": [
              "<Figure size 360x360 with 1 Axes>"
            ],
            "image/png": "[encoded data removed]"
          },
          "metadata": {
            "needs_background": "light"
          }
        }
      ]
    },
    {
      "cell_type": "code",
      "source": [
        "figure, ax = plt.subplots(figsize=(20,15))\n",
        "scatter = ax.scatter(data = data, x = \"bedrooms\", y=\"price\", cmap='seismic');\n",
        "ax.set_xlabel(\"Bedrooms\")\n",
        "ax.set_ylabel(\"Price\")\n",
        "\n",
        "mylegend = ax.legend(*scatter.legend_elements(num=5),\n",
        "                   loc=\"upper right\", title=\"Price on Bedrooms\")\n",
        "\n",
        "ax.add_artist(mylegend)"
      ],
      "metadata": {
        "id": "z_hVyhHBx7Ux",
        "colab": {
          "base_uri": "https://localhost:8080/",
          "height": 940
        },
        "outputId": "abb7311f-dbc4-4a0f-9b08-19b7b70c5265"
      },
      "execution_count": null,
      "outputs": [
        {
          "output_type": "stream",
          "name": "stderr",
          "text": [
            "/usr/local/lib/python3.7/dist-packages/matplotlib/collections.py:988: UserWarning: Collection without array used. Make sure to specify the values to be colormapped via the `c` argument.\n",
            "  warnings.warn(\"Collection without array used. Make sure to \"\n"
          ]
        },
        {
          "output_type": "execute_result",
          "data": {
            "text/plain": [
              "<matplotlib.legend.Legend at 0x7f21f0c1bad0>"
            ]
          },
          "metadata": {},
          "execution_count": 35
        },
        {
          "output_type": "display_data",
          "data": {
            "text/plain": [
              "<Figure size 1440x1080 with 1 Axes>"
            ],
            "image/png": "[encoded data removed]"
          },
          "metadata": {
            "needs_background": "light"
          }
        }
      ]
    },
    {
      "cell_type": "code",
      "source": [
        "figure, ax = plt.subplots(figsize=(20,15))\n",
        "scatter = ax.scatter(data = data, x = \"sqft_living\", y=\"price\", cmap='seismic');\n",
        "ax.set_xlabel(\"sqft_living\")\n",
        "ax.set_ylabel(\"Price\")\n",
        "\n",
        "mylegend = ax.legend(*scatter.legend_elements(num=5),\n",
        "                   loc=\"upper right\", title=\"Price on sqft_living\")\n",
        "\n",
        "ax.add_artist(mylegend)"
      ],
      "metadata": {
        "id": "JeNDAuYq2K0R",
        "colab": {
          "base_uri": "https://localhost:8080/",
          "height": 941
        },
        "outputId": "f260e8f1-7eed-40ed-99d0-3bfe12f13e2a"
      },
      "execution_count": null,
      "outputs": [
        {
          "output_type": "stream",
          "name": "stderr",
          "text": [
            "/usr/local/lib/python3.7/dist-packages/matplotlib/collections.py:988: UserWarning: Collection without array used. Make sure to specify the values to be colormapped via the `c` argument.\n",
            "  warnings.warn(\"Collection without array used. Make sure to \"\n"
          ]
        },
        {
          "output_type": "execute_result",
          "data": {
            "text/plain": [
              "<matplotlib.legend.Legend at 0x7f21f0b555d0>"
            ]
          },
          "metadata": {},
          "execution_count": 36
        },
        {
          "output_type": "display_data",
          "data": {
            "text/plain": [
              "<Figure size 1440x1080 with 1 Axes>"
            ],
            "image/png": "[encoded data removed]"
          },
          "metadata": {
            "needs_background": "light"
          }
        }
      ]
    },
    {
      "cell_type": "code",
      "source": [
        "sns.pairplot(data)"
      ],
      "metadata": {
        "id": "8aJN2BbNNyTE",
        "colab": {
          "base_uri": "https://localhost:8080/",
          "height": 567
        },
        "outputId": "129dbc63-d33c-4b56-f64c-1281cd4c08da"
      },
      "execution_count": null,
      "outputs": [
        {
          "output_type": "execute_result",
          "data": {
            "text/plain": [
              "<seaborn.axisgrid.PairGrid at 0x7f21f1821910>"
            ]
          },
          "metadata": {},
          "execution_count": 37
        },
        {
          "output_type": "display_data",
          "data": {
            "text/plain": [
              "<Figure size 540x540 with 12 Axes>"
            ],
            "image/png": "[encoded data removed]"
          },
          "metadata": {
            "needs_background": "light"
          }
        }
      ]
    },
    {
      "cell_type": "code",
      "source": [
        "sns.distplot(data['price'])\n",
        "sns.heatmap(data.corr(), annot=True)"
      ],
      "metadata": {
        "id": "SK_RRB5jOqtg",
        "colab": {
          "base_uri": "https://localhost:8080/",
          "height": 342
        },
        "outputId": "54ba5cfe-eaa5-40f4-f114-39d7232f767f"
      },
      "execution_count": null,
      "outputs": [
        {
          "output_type": "stream",
          "name": "stderr",
          "text": [
            "/usr/local/lib/python3.7/dist-packages/seaborn/distributions.py:2619: FutureWarning: `distplot` is a deprecated function and will be removed in a future version. Please adapt your code to use either `displot` (a figure-level function with similar flexibility) or `histplot` (an axes-level function for histograms).\n",
            "  warnings.warn(msg, FutureWarning)\n"
          ]
        },
        {
          "output_type": "execute_result",
          "data": {
            "text/plain": [
              "<matplotlib.axes._subplots.AxesSubplot at 0x7f21f18ba350>"
            ]
          },
          "metadata": {},
          "execution_count": 38
        },
        {
          "output_type": "display_data",
          "data": {
            "text/plain": [
              "<Figure size 432x288 with 2 Axes>"
            ],
            "image/png": "[encoded data removed]"
          },
          "metadata": {
            "needs_background": "light"
          }
        }
      ]
    },
    {
      "cell_type": "markdown",
      "source": [
        "# Linear Regression"
      ],
      "metadata": {
        "id": "CMCMqEzTmdMN"
      }
    },
    {
      "cell_type": "markdown",
      "source": [
        "## Data Processing"
      ],
      "metadata": {
        "id": "EEz5mcOuOQ0Q"
      }
    },
    {
      "cell_type": "code",
      "source": [
        "X = data[['bedrooms', 'sqft_living']]\n",
        "\n",
        "y = data['price']"
      ],
      "metadata": {
        "id": "ZGLjIN2uonto"
      },
      "execution_count": null,
      "outputs": []
    },
    {
      "cell_type": "code",
      "source": [
        "from sklearn.model_selection import train_test_split\n",
        "X_train, X_test, y_train, y_test = train_test_split(X, y, test_size=0.3, random_state=101) "
      ],
      "metadata": {
        "id": "2BWmIjk8jEOE"
      },
      "execution_count": null,
      "outputs": []
    },
    {
      "cell_type": "code",
      "source": [
        "X_train.shape , y_train.shape , X_test.shape , y_test.shape\n"
      ],
      "metadata": {
        "id": "Dz6si-dKs6cL",
        "colab": {
          "base_uri": "https://localhost:8080/"
        },
        "outputId": "e4164f10-9d93-495a-e59f-7088ced571ab"
      },
      "execution_count": null,
      "outputs": [
        {
          "output_type": "execute_result",
          "data": {
            "text/plain": [
              "((15117, 2), (15117,), (6480, 2), (6480,))"
            ]
          },
          "metadata": {},
          "execution_count": 41
        }
      ]
    },
    {
      "cell_type": "code",
      "source": [
        "\n",
        "from sklearn import preprocessing\n",
        "\n",
        "from sklearn.preprocessing import MinMaxScaler\n",
        "min_max_scaler = MinMaxScaler()\n",
        "\n",
        "column_names_to_normalize = ['bedrooms', 'sqft_living']\n",
        "\n",
        "x = X_train[column_names_to_normalize].values\n",
        "\n",
        "x_scaled = min_max_scaler.fit_transform(x)\n",
        "\n",
        "normalized_features = pd.DataFrame(x_scaled, columns=column_names_to_normalize, index = X_train.index)\n",
        "\n",
        "X_train[column_names_to_normalize] = normalized_features\n",
        "\n",
        "\n",
        "x1 = X_test[column_names_to_normalize].values\n",
        "\n",
        "x1_scaled = min_max_scaler.fit_transform(x1)\n",
        "\n",
        "normalized_features = pd.DataFrame(x1_scaled, columns=column_names_to_normalize, index = X_test.index)\n",
        "\n",
        "X_test[column_names_to_normalize] = normalized_features\n"
      ],
      "metadata": {
        "id": "f9Y-6XWxmLDk"
      },
      "execution_count": null,
      "outputs": []
    },
    {
      "cell_type": "markdown",
      "source": [
        "## Gradient and Theta"
      ],
      "metadata": {
        "id": "ZZ4-WfwMOdEj"
      }
    },
    {
      "cell_type": "markdown",
      "source": [
        "Hàm giả thiết của mô hình hồi quy tuyến tính: \n",
        "$$\n",
        "\\hat{\\textbf{y}} = h_{\\theta}(\\textbf{x}) = X\\theta\n",
        "$$\n",
        "\n",
        "Lập trình hàm tính giá trị mất mát trên bộ dữ liệu bất kỳ. Công thức Mean Squared Error:\n",
        "$$\n",
        "J(\\theta) =  \\frac{1}{2m} \\sum{(\\hat{\\textbf{y}} - \\textbf{y})^2} = \\frac{1}{2m} \\sum{(X\\theta - \\textbf{y})^2} \n",
        "$$\n",
        "Lập trình công thức tính Gradient của hàm mất mát trên $\\theta$:\n",
        "\n",
        "$$ \\nabla{J(\\theta)} = \\frac{1}{m} X^T(\\hat{\\textbf{y}} - \\textbf{y})   = \\frac{1}{m} X^T(X\\theta - \\textbf{y}) $$\n",
        "Cập nhật tham số theo Gradient trên mỗi điểm dữ liệu:\n",
        "$$\\theta_{\\textbf{new}} = \\theta_{\\textbf{old}} - \\alpha \\frac{1}{m} X^T(X\\theta - \\textbf{y}) = \\theta_{\\textbf{old}} - \\alpha \\nabla{J(\\theta)} $$"
      ],
      "metadata": {
        "id": "uXQdZum9z39j"
      }
    },
    {
      "cell_type": "code",
      "source": [
        "def add_bias_x(x):\n",
        "    return np.append(x, np.ones((x.shape[0], 1)), axis=1)\n",
        "\n",
        "def hypothesis(X, theta): \n",
        "    return np.dot(X, theta) \n",
        "  \n",
        "\n",
        "def gradient(X, y, theta): \n",
        "    h = hypothesis(X, theta) \n",
        "    grad = np.dot(X.transpose(), (h - y))/X.shape[0] \n",
        "    return grad \n",
        "  \n",
        "\n",
        "def loss(X, y, theta, m):\n",
        "  loss_value = 1/(2 *m)* np.sum((hypothesis(X, theta) - y)**2)\n",
        "  return loss_value\n",
        "  \n",
        "\n",
        "def create_mini_batches(X, y, batch_size): \n",
        "    mini_batches = [] \n",
        "    data = np.hstack((X, y)) \n",
        "    np.random.shuffle(data) \n",
        "    n_minibatches = data.shape[0] // batch_size \n",
        "    i = 0\n",
        "  \n",
        "    for i in range(n_minibatches + 1): \n",
        "        mini_batch = data[i * batch_size:(i + 1)*batch_size, :] \n",
        "        X_mini = mini_batch[:, :-1] \n",
        "        Y_mini = mini_batch[:, -1].reshape((-1, 1)) \n",
        "        mini_batches.append((X_mini, Y_mini)) \n",
        "    if data.shape[0] % batch_size != 0: \n",
        "        mini_batch = data[i * batch_size:data.shape[0]] \n",
        "        X_mini = mini_batch[:, :-1] \n",
        "        Y_mini = mini_batch[:, -1].reshape((-1, 1)) \n",
        "        mini_batches.append((X_mini, Y_mini)) \n",
        "    return mini_batches \n",
        "  \n",
        "\n",
        "def gradientDescent(X, y, learning_rate = 0.025, batch_size = 50): \n",
        "    theta = np.zeros((X.shape[1], 1)) \n",
        "    \n",
        "    max_iters = int(len(X)/batch_size)\n",
        "    for itr in range(max_iters): \n",
        "        mini_batches = create_mini_batches(X, y, batch_size) \n",
        "        for mini_batch in mini_batches: \n",
        "            X_mini, y_mini = mini_batch \n",
        "            theta = theta - learning_rate * gradient(X_mini, y_mini, theta) \n",
        "            \n",
        "  \n",
        "    return theta\n",
        "\n",
        "\n",
        "def r_square(y_test, y_pred):\n",
        "    ss_res = y_test - y_pred\n",
        "    ss_tot = y_test - y_test.mean()\n",
        "    r_square = 1 - (ss_res.T.dot(ss_res) / ss_tot.T.dot(ss_tot))\n",
        "    return r_square"
      ],
      "metadata": {
        "id": "TYwIvIn7RLt1"
      },
      "execution_count": null,
      "outputs": []
    },
    {
      "cell_type": "markdown",
      "source": [
        "## Training"
      ],
      "metadata": {
        "id": "7Pp0xxu3Ood9"
      }
    },
    {
      "cell_type": "code",
      "source": [
        "X_train = add_bias_x(X_train)\n",
        "X_test = add_bias_x(X_test)\n",
        "y_train = y_train.values.reshape(-1, 1)\n",
        "y_test = y_test.values.reshape(-1, 1)"
      ],
      "metadata": {
        "id": "rIPRCDR6n3sP"
      },
      "execution_count": null,
      "outputs": []
    },
    {
      "cell_type": "code",
      "source": [
        "X_train.shape , y_train.shape , X_test.shape , y_test.shape"
      ],
      "metadata": {
        "id": "SZLO1Q6lcBuL",
        "colab": {
          "base_uri": "https://localhost:8080/"
        },
        "outputId": "58f6716b-ef9b-4e93-aaf4-9290a195972a"
      },
      "execution_count": null,
      "outputs": [
        {
          "output_type": "execute_result",
          "data": {
            "text/plain": [
              "((15117, 3), (15117, 1), (6480, 3), (6480, 1))"
            ]
          },
          "metadata": {},
          "execution_count": 45
        }
      ]
    },
    {
      "cell_type": "code",
      "source": [
        "theta = gradientDescent(X_train, y_train) \n",
        "print(theta)"
      ],
      "metadata": {
        "id": "EP1D497gS4mE",
        "colab": {
          "base_uri": "https://localhost:8080/"
        },
        "outputId": "ce611d4c-7533-4134-fad2-29c02a697072"
      },
      "execution_count": null,
      "outputs": [
        {
          "output_type": "stream",
          "name": "stdout",
          "text": [
            "[[-641739.17417483]\n",
            " [3076988.16575728]\n",
            " [ 150567.73005171]]\n"
          ]
        }
      ]
    },
    {
      "cell_type": "code",
      "source": [
        "\n",
        "coeff = pd.DataFrame({\n",
        "    \"Intercept\": [theta.T[0, -1]],\n",
        "    \"sqft_living\": [theta.T[0, 0]],\n",
        "    \"bedrooms\": [theta.T[0, 1]]\n",
        "}, index=[1])\n",
        "print(\"\\n--------------\")\n",
        "print(\"Coefficients:\")\n",
        "print(coeff)\n",
        "r_theta = np.round(theta.T, 6)\n",
        "print(\"\\ny = ({})*x1 + ({})*x2 + ({})\".format( r_theta[0, 0], r_theta[0, 1], r_theta[0, -1]))\n",
        "\n"
      ],
      "metadata": {
        "id": "ZOncWOvIRwDA",
        "colab": {
          "base_uri": "https://localhost:8080/"
        },
        "outputId": "0fc20f38-4ce5-4f34-bff9-d4d1aaa5843c"
      },
      "execution_count": null,
      "outputs": [
        {
          "output_type": "stream",
          "name": "stdout",
          "text": [
            "\n",
            "--------------\n",
            "Coefficients:\n",
            "       Intercept    sqft_living      bedrooms\n",
            "1  150567.730052 -641739.174175  3.076988e+06\n",
            "\n",
            "y = (-641739.174175)*x1 + (3076988.165757)*x2 + (150567.730052)\n"
          ]
        }
      ]
    },
    {
      "cell_type": "code",
      "source": [
        "y_pred = hypothesis(X_test, theta) \n",
        "error_pred = y_pred - y_test\n",
        "test_df = pd.DataFrame({\n",
        "    \"Y_test\": y_test[:, 0],\n",
        "    \"Y_predict\": y_pred[:, 0],\n",
        "    \"error_pred\" : error_pred[:, 0]\n",
        "})\n",
        "print(round(test_df))"
      ],
      "metadata": {
        "id": "CsSFTycHgo6z",
        "colab": {
          "base_uri": "https://localhost:8080/"
        },
        "outputId": "684e9c77-f114-4b82-cc65-4e9298a34bc4"
      },
      "execution_count": null,
      "outputs": [
        {
          "output_type": "stream",
          "name": "stdout",
          "text": [
            "         Y_test  Y_predict  error_pred\n",
            "0      319000.0   214943.0   -104057.0\n",
            "1      464625.0   470338.0      5713.0\n",
            "2      489950.0   382510.0   -107440.0\n",
            "3      395000.0   250122.0   -144878.0\n",
            "4      458000.0   356712.0   -101288.0\n",
            "...         ...        ...         ...\n",
            "6475   585000.0   791639.0    206639.0\n",
            "6476   132825.0   295735.0    162910.0\n",
            "6477   422500.0   245431.0   -177069.0\n",
            "6478   435000.0   582910.0    147910.0\n",
            "6479  1230000.0   704864.0   -525136.0\n",
            "\n",
            "[6480 rows x 3 columns]\n"
          ]
        }
      ]
    },
    {
      "cell_type": "code",
      "source": [
        "plt.scatter(y_test, y_pred )"
      ],
      "metadata": {
        "id": "JSR3TKsOT50Y",
        "colab": {
          "base_uri": "https://localhost:8080/",
          "height": 306
        },
        "outputId": "e12a1a8b-9454-49ee-8a41-4584e800dd56"
      },
      "execution_count": null,
      "outputs": [
        {
          "output_type": "execute_result",
          "data": {
            "text/plain": [
              "<matplotlib.collections.PathCollection at 0x7f21f0380c50>"
            ]
          },
          "metadata": {},
          "execution_count": 49
        },
        {
          "output_type": "display_data",
          "data": {
            "text/plain": [
              "<Figure size 432x288 with 1 Axes>"
            ],
            "image/png": "[encoded data removed]"
          },
          "metadata": {
            "needs_background": "light"
          }
        }
      ]
    },
    {
      "cell_type": "code",
      "source": [
        "sns.distplot((y_test-y_pred),bins=50); "
      ],
      "metadata": {
        "colab": {
          "base_uri": "https://localhost:8080/",
          "height": 344
        },
        "id": "qFxrCiWARjU6",
        "outputId": "dc8b52da-0fdf-431d-a3c0-90d716062ba4"
      },
      "execution_count": null,
      "outputs": [
        {
          "output_type": "stream",
          "name": "stderr",
          "text": [
            "/usr/local/lib/python3.7/dist-packages/seaborn/distributions.py:2619: FutureWarning: `distplot` is a deprecated function and will be removed in a future version. Please adapt your code to use either `displot` (a figure-level function with similar flexibility) or `histplot` (an axes-level function for histograms).\n",
            "  warnings.warn(msg, FutureWarning)\n"
          ]
        },
        {
          "output_type": "display_data",
          "data": {
            "text/plain": [
              "<Figure size 432x288 with 1 Axes>"
            ],
            "image/png": "[encoded data removed]"
          },
          "metadata": {
            "needs_background": "light"
          }
        }
      ]
    },
    {
      "cell_type": "code",
      "source": [
        "print(\"==> Coefficient of Determination:\", r_square(y_test, y_pred)[0, 0])\n",
        "print(\"==> Loss:\", loss(X_test, y_test, theta, X_test.shape[0]))\n"
      ],
      "metadata": {
        "id": "xmwbonPoovn9",
        "colab": {
          "base_uri": "https://localhost:8080/"
        },
        "outputId": "389b11fd-560e-4162-d809-6e1695e02f52"
      },
      "execution_count": null,
      "outputs": [
        {
          "output_type": "stream",
          "name": "stdout",
          "text": [
            "==> Coefficient of Determination: 0.48085295765863667\n",
            "==> Loss: 34423709540.87469\n"
          ]
        }
      ]
    },
    {
      "cell_type": "code",
      "source": [
        "from sklearn import metrics\n",
        "\n",
        "print('MAE:', metrics.mean_absolute_error(y_test, y_pred))\n",
        "print('MSE:', metrics.mean_squared_error(y_test, y_pred))\n",
        "print('RMSE:', np.sqrt(metrics.mean_squared_error(y_test, y_pred))) "
      ],
      "metadata": {
        "id": "0NkXZ4pHQhhb",
        "colab": {
          "base_uri": "https://localhost:8080/"
        },
        "outputId": "feb3c49a-0ff5-448c-dad4-24bf7db1debd"
      },
      "execution_count": null,
      "outputs": [
        {
          "output_type": "stream",
          "name": "stdout",
          "text": [
            "MAE: 161492.2650573572\n",
            "MSE: 68847419081.74939\n",
            "RMSE: 262387.91717941087\n"
          ]
        }
      ]
    },
    {
      "cell_type": "code",
      "source": [],
      "metadata": {
        "id": "d4XazYXu8bPF"
      },
      "execution_count": null,
      "outputs": []
    }
  ]
}